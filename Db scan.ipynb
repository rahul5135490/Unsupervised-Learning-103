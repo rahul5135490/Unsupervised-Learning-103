{
 "cells": [
  {
   "cell_type": "code",
   "execution_count": 1,
   "id": "05c62c93",
   "metadata": {},
   "outputs": [],
   "source": [
    "from sklearn.cluster import OPTICS, cluster_optics_dbscan\n",
    "import matplotlib.gridspec as gridspec\n",
    "import matplotlib.pyplot as plt\n",
    "import numpy as np\n"
   ]
  },
  {
   "cell_type": "code",
   "execution_count": 2,
   "id": "2bc69df7",
   "metadata": {},
   "outputs": [],
   "source": [
    "# Generate sample data\n",
    "\n",
    "np.random.seed(0)\n",
    "n_points_per_cluster = 250\n",
    "\n",
    "C1 = [-5, -2] + 0.8 * np.random.randn(n_points_per_cluster, 2)\n",
    "C2 = [4, -1] + 0.1 * np.random.randn(n_points_per_cluster, 2)\n",
    "C3 = [1, -2] + 0.2 * np.random.randn(n_points_per_cluster, 2)\n",
    "C4 = [-2, 3] + 0.3 * np.random.randn(n_points_per_cluster, 2)\n",
    "C5 = [3, -2] + 1.6 * np.random.randn(n_points_per_cluster, 2)\n",
    "C6 = [5, 6] + 2 * np.random.randn(n_points_per_cluster, 2)\n",
    "X = np.vstack((C1, C2, C3, C4, C5, C6))"
   ]
  },
  {
   "cell_type": "code",
   "execution_count": 3,
   "id": "17becfd6",
   "metadata": {},
   "outputs": [],
   "source": [
    "clust = OPTICS(min_samples=50, xi=0.05, min_cluster_size=0.05)"
   ]
  },
  {
   "cell_type": "code",
   "execution_count": 4,
   "id": "1d7f960c",
   "metadata": {},
   "outputs": [],
   "source": [
    "# Run the fit\n",
    "clust.fit(X)\n",
    "\n",
    "labels_050 = cluster_optics_dbscan(\n",
    "    reachability=clust.reachability_,\n",
    "    core_distances=clust.core_distances_,\n",
    "    ordering=clust.ordering_,\n",
    "    eps=0.5,\n",
    ")\n",
    "labels_200 = cluster_optics_dbscan(\n",
    "    reachability=clust.reachability_,\n",
    "    core_distances=clust.core_distances_,\n",
    "    ordering=clust.ordering_,\n",
    "    eps=2,\n",
    ")\n",
    "\n",
    "space = np.arange(len(X))\n",
    "reachability = clust.reachability_[clust.ordering_]\n",
    "labels = clust.labels_[clust.ordering_]"
   ]
  },
  {
   "cell_type": "code",
   "execution_count": 5,
   "id": "e65aaa47",
   "metadata": {},
   "outputs": [
    {
     "data": {
      "text/plain": [
       "Text(0.5, 1.0, 'Reachability Plot')"
      ]
     },
     "execution_count": 5,
     "metadata": {},
     "output_type": "execute_result"
    },
    {
     "data": {
      "image/png": "[encoded data removed]",
      "text/plain": [
       "<Figure size 720x504 with 4 Axes>"
      ]
     },
     "metadata": {
      "needs_background": "light"
     },
     "output_type": "display_data"
    }
   ],
   "source": [
    "plt.figure(figsize=(10, 7))\n",
    "G = gridspec.GridSpec(2, 3)\n",
    "ax1 = plt.subplot(G[0, :])\n",
    "ax2 = plt.subplot(G[1, 0])\n",
    "ax3 = plt.subplot(G[1, 1])\n",
    "ax4 = plt.subplot(G[1, 2])\n",
    "\n",
    "# Reachability plot\n",
    "colors = [\"g.\", \"r.\", \"b.\", \"y.\", \"c.\"]\n",
    "for klass, color in zip(range(0, 5), colors):\n",
    "    Xk = space[labels == klass]\n",
    "    Rk = reachability[labels == klass]\n",
    "    ax1.plot(Xk, Rk, color, alpha=0.3)\n",
    "ax1.plot(space[labels == -1], reachability[labels == -1], \"k.\", alpha=0.3)\n",
    "ax1.plot(space, np.full_like(space, 2.0, dtype=float), \"k-\", alpha=0.5)\n",
    "ax1.plot(space, np.full_like(space, 0.5, dtype=float), \"k-.\", alpha=0.5)\n",
    "ax1.set_ylabel(\"Reachability (epsilon distance)\")\n",
    "ax1.set_title(\"Reachability Plot\")\n"
   ]
  },
  {
   "cell_type": "code",
   "execution_count": 6,
   "id": "d10ccc2c",
   "metadata": {},
   "outputs": [
    {
     "data": {
      "text/plain": [
       "Text(0.5, 1.0, 'Automatic Clustering\\nOPTICS')"
      ]
     },
     "execution_count": 6,
     "metadata": {},
     "output_type": "execute_result"
    }
   ],
   "source": [
    "# OPTICS\n",
    "colors = [\"g.\", \"r.\", \"b.\", \"y.\", \"c.\"]\n",
    "for klass, color in zip(range(0, 5), colors):\n",
    "    Xk = X[clust.labels_ == klass]\n",
    "    ax2.plot(Xk[:, 0], Xk[:, 1], color, alpha=0.3)\n",
    "ax2.plot(X[clust.labels_ == -1, 0], X[clust.labels_ == -1, 1], \"k+\", alpha=0.1)\n",
    "ax2.set_title(\"Automatic Clustering\\nOPTICS\")"
   ]
  },
  {
   "cell_type": "code",
   "execution_count": 7,
   "id": "ef5ea37e",
   "metadata": {},
   "outputs": [
    {
     "data": {
      "text/plain": [
       "Text(0.5, 1.0, 'Clustering at 0.5 epsilon cut\\nDBSCAN')"
      ]
     },
     "execution_count": 7,
     "metadata": {},
     "output_type": "execute_result"
    }
   ],
   "source": [
    "# DBSCAN at 0.5\n",
    "colors = [\"g\", \"greenyellow\", \"olive\", \"r\", \"b\", \"c\"]\n",
    "for klass, color in zip(range(0, 6), colors):\n",
    "    Xk = X[labels_050 == klass]\n",
    "    ax3.plot(Xk[:, 0], Xk[:, 1], color, alpha=0.3, marker=\".\")\n",
    "ax3.plot(X[labels_050 == -1, 0], X[labels_050 == -1, 1], \"k+\", alpha=0.1)\n",
    "ax3.set_title(\"Clustering at 0.5 epsilon cut\\nDBSCAN\")\n"
   ]
  },
  {
   "cell_type": "code",
   "execution_count": 8,
   "id": "9698e193",
   "metadata": {},
   "outputs": [
    {
     "data": {
      "text/plain": [
       "<Figure size 432x288 with 0 Axes>"
      ]
     },
     "metadata": {},
     "output_type": "display_data"
    }
   ],
   "source": [
    "# DBSCAN at 2.\n",
    "colors = [\"g.\", \"m.\", \"y.\", \"c.\"]\n",
    "for klass, color in zip(range(0, 4), colors):\n",
    "    Xk = X[labels_200 == klass]\n",
    "    ax4.plot(Xk[:, 0], Xk[:, 1], color, alpha=0.3)\n",
    "ax4.plot(X[labels_200 == -1, 0], X[labels_200 == -1, 1], \"k+\", alpha=0.1)\n",
    "ax4.set_title(\"Clustering at 2.0 epsilon cut\\nDBSCAN\")\n",
    "\n",
    "plt.tight_layout()\n",
    "plt.show()"
   ]
  },
  {
   "cell_type": "code",
   "execution_count": null,
   "id": "c0b7528e",
   "metadata": {},
   "outputs": [],
   "source": []
  }
 ],
 "metadata": {
  "kernelspec": {
   "display_name": "Python 3 (ipykernel)",
   "language": "python",
   "name": "python3"
  },
  "language_info": {
   "codemirror_mode": {
    "name": "ipython",
    "version": 3
   },
   "file_extension": ".py",
   "mimetype": "text/x-python",
   "name": "python",
   "nbconvert_exporter": "python",
   "pygments_lexer": "ipython3",
   "version": "3.9.13"
  }
 },
 "nbformat": 4,
 "nbformat_minor": 5
}
